{
 "cells": [
  {
   "cell_type": "code",
   "execution_count": 29,
   "id": "6ab64f34",
   "metadata": {},
   "outputs": [],
   "source": [
    "import pandas as pd"
   ]
  },
  {
   "cell_type": "code",
   "execution_count": 30,
   "id": "9e01a992",
   "metadata": {},
   "outputs": [
    {
     "name": "stdout",
     "output_type": "stream",
     "text": [
      "Dataset shape: (1680, 21)\n",
      "Columns: ['model_id', 'dag_id', 'naming_variant_id', 'n_nodes', 'target_treewidth', 'achieved_treewidth', 'dag_method', 'naming_strategy', 'dirichlet_alpha', 'determinism_fraction', 'arity_min', 'arity_max', 'structural_seed', 'cpt_seed', 'sample_idx', 'network_description', 'cpd_arrays', 'nodes', 'edges', 'edges_count', 'created_at']\n"
     ]
    }
   ],
   "source": [
    "df = pd.read_parquet(\"networks.parquet\")\n",
    "print(f\"Dataset shape: {df.shape}\")\n",
    "print(f\"Columns: {list(df.columns)}\")"
   ]
  },
  {
   "cell_type": "code",
   "execution_count": 31,
   "id": "520516d7",
   "metadata": {},
   "outputs": [
    {
     "name": "stdout",
     "output_type": "stream",
     "text": [
      "=== Reconstructing Bayesian Network from Dataset ===\n",
      "Reconstructing model: model_0001\n",
      "Nodes: 10, Edges: 9\n",
      "✓ Successfully reconstructed model with 10 nodes\n"
     ]
    }
   ],
   "source": [
    "import json\n",
    "import numpy as np\n",
    "from pgmpy.models import DiscreteBayesianNetwork\n",
    "from pgmpy.factors.discrete import TabularCPD\n",
    "\n",
    "def reconstruct_bayesian_network(row):\n",
    "    \"\"\"\n",
    "    Reconstruct a pgmpy DiscreteBayesianNetwork from a dataset row.\n",
    "    \n",
    "    Note: CPD arrays are stored using cpd.get_values() which returns the 2D format\n",
    "    expected by TabularCPD constructor, making reconstruction straightforward.\n",
    "    \n",
    "    Args:\n",
    "        row: A pandas Series (row from the dataset)\n",
    "        \n",
    "    Returns:\n",
    "        DiscreteBayesianNetwork: The reconstructed pgmpy model\n",
    "    \"\"\"\n",
    "    # Parse the stored data\n",
    "    nodes = json.loads(row['nodes'])\n",
    "    edges = json.loads(row['edges'])\n",
    "    cpd_arrays = json.loads(row['cpd_arrays'])\n",
    "    \n",
    "    # Create the network structure\n",
    "    model = DiscreteBayesianNetwork(edges)\n",
    "    \n",
    "    # Reconstruct CPDs\n",
    "    cpds = []\n",
    "    for node in nodes:\n",
    "        # Get the CPD array for this node\n",
    "        cpd_values = np.array(cpd_arrays[node])\n",
    "        \n",
    "        # Determine parents from the edges\n",
    "        parents = [edge[0] for edge in edges if edge[1] == node]\n",
    "        \n",
    "        # Get cardinalities\n",
    "        variable_card = cpd_values.shape[0]  # Number of states for this variable\n",
    "        \n",
    "        if parents:\n",
    "            # This node has parents\n",
    "            evidence_card = []\n",
    "            for parent in parents:\n",
    "                parent_cpd = np.array(cpd_arrays[parent])\n",
    "                evidence_card.append(parent_cpd.shape[0])\n",
    "            \n",
    "            # Create state names (using default s0, s1, s2, ... format)\n",
    "            state_names = {node: [f\"s{i}\" for i in range(variable_card)]}\n",
    "            for parent in parents:\n",
    "                parent_cpd = np.array(cpd_arrays[parent])\n",
    "                state_names[parent] = [f\"s{i}\" for i in range(parent_cpd.shape[0])]\n",
    "            \n",
    "            cpd = TabularCPD(\n",
    "                variable=node,\n",
    "                variable_card=variable_card,\n",
    "                values=cpd_values,\n",
    "                evidence=parents,\n",
    "                evidence_card=evidence_card,\n",
    "                state_names=state_names\n",
    "            )\n",
    "        else:\n",
    "            # Root node (no parents)\n",
    "            state_names = {node: [f\"s{i}\" for i in range(variable_card)]}\n",
    "            \n",
    "            cpd = TabularCPD(\n",
    "                variable=node,\n",
    "                variable_card=variable_card,\n",
    "                values=cpd_values,  \n",
    "                state_names=state_names\n",
    "            )\n",
    "        \n",
    "        cpds.append(cpd)\n",
    "    \n",
    "    # Add CPDs to the model\n",
    "    model.add_cpds(*cpds)\n",
    "    \n",
    "    # Verify the model is valid\n",
    "    model.check_model()\n",
    "    \n",
    "    return model\n",
    "\n",
    "# Test with the first row\n",
    "print(\"=== Reconstructing Bayesian Network from Dataset ===\")\n",
    "sample_row = df.iloc[0]\n",
    "print(f\"Reconstructing model: {sample_row['model_id']}\")\n",
    "print(f\"Nodes: {sample_row['n_nodes']}, Edges: {sample_row['edges_count']}\")\n",
    "\n",
    "reconstructed_model = reconstruct_bayesian_network(sample_row)\n",
    "print(f\"✓ Successfully reconstructed model with {len(reconstructed_model.nodes())} nodes\")\n"
   ]
  }
 ],
 "metadata": {
  "kernelspec": {
   "display_name": ".venv",
   "language": "python",
   "name": "python3"
  },
  "language_info": {
   "codemirror_mode": {
    "name": "ipython",
    "version": 3
   },
   "file_extension": ".py",
   "mimetype": "text/x-python",
   "name": "python",
   "nbconvert_exporter": "python",
   "pygments_lexer": "ipython3",
   "version": "3.12.3"
  }
 },
 "nbformat": 4,
 "nbformat_minor": 5
}
