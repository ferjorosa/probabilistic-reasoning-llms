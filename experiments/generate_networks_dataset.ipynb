{
 "cells": [
  {
   "cell_type": "markdown",
   "id": "b91c858c",
   "metadata": {},
   "source": [
    "This notebook sweeps over DAG/BN generation parameters outlined in `notebooks/graph_generation/ideas.md` and materializes multiple discrete BN variants per DAG.\n",
    "\n",
    "It varies:\n",
    "- n (number of variables)\n",
    "- target treewidth\n",
    "- variable arity (fixed or range)\n",
    "- CPT skewness (Dirichlet alpha)\n",
    "- determinism fraction (mostly 0%)\n",
    "\n",
    "Queremos generar 3 versiones del dataset para poder tener un ablation test con respecto al nombre de las variables\n",
    "\n",
    "Con respecto al numero de nodos, treewidth y demas, la idea es tener suficientes ejemplos que tengamos la capacidad de obtener insights y comparativas sobre que tipo de redes les cuesta mas o menos a los LLMs\n",
    "\n",
    "En el dataframe tenemos que guardar las CPTs en un formato que sea facilmente recuperable"
   ]
  },
  {
   "cell_type": "code",
   "execution_count": 1,
   "id": "ef79bf0f",
   "metadata": {},
   "outputs": [],
   "source": [
    "import sys\n",
    "from pathlib import Path\n",
    "import re\n",
    "from os import getenv\n",
    "\n",
    "# Ensure src is importable\n",
    "repo_root = Path(\".\").resolve().parents[1]\n",
    "sys.path.append(str(repo_root / 'src'))"
   ]
  }
 ],
 "metadata": {
  "kernelspec": {
   "display_name": ".venv",
   "language": "python",
   "name": "python3"
  },
  "language_info": {
   "codemirror_mode": {
    "name": "ipython",
    "version": 3
   },
   "file_extension": ".py",
   "mimetype": "text/x-python",
   "name": "python",
   "nbconvert_exporter": "python",
   "pygments_lexer": "ipython3",
   "version": "3.12.3"
  }
 },
 "nbformat": 4,
 "nbformat_minor": 5
}
