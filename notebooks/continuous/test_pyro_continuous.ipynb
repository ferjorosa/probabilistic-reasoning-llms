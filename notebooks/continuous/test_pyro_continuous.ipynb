{
 "cells": [
  {
   "cell_type": "markdown",
   "id": "1353ab87",
   "metadata": {},
   "source": [
    "# Objective\n",
    "\n",
    "The purpose of this notebook is to test Pyro and its different inference algorithms in a continuous case, a linear bayesian network"
   ]
  },
  {
   "cell_type": "markdown",
   "id": "27d9f51b",
   "metadata": {},
   "source": []
  }
 ],
 "metadata": {
  "language_info": {
   "name": "python"
  }
 },
 "nbformat": 4,
 "nbformat_minor": 5
}
