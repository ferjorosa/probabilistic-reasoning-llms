{
 "cells": [
  {
   "cell_type": "markdown",
   "id": "dc86ca5b",
   "metadata": {},
   "source": [
    "## Objective\n",
    "\n",
    "The purpose of this notebook is to explore how we can do inference on Discrete BNs using Pgmpy and how to display the CPTs and the structure.\n",
    "\n",
    "We an example BN here, but there are other \"common\" BN examples. We have a repository here:\n",
    "\n",
    "https://www.bnlearn.com/bnrepository/\n",
    "\n",
    "We can also manually create our own examples either fully synhetic with random variable names or with a combination of synthetic + LLMs / manual\n",
    "\n",
    "We can also train a BN using a well-known dataset or a synthetic one."
   ]
  },
  {
   "cell_type": "code",
   "execution_count": 2,
   "id": "30cd64ae",
   "metadata": {},
   "outputs": [],
   "source": [
    "import sys\n",
    "import networkx as nx\n",
    "from pathlib import Path\n",
    "\n",
    "from pgmpy.utils import get_example_model\n",
    "from pgmpy.inference import VariableElimination\n",
    "\n",
    "# Set the base path\n",
    "base_path = Path(\"../../\")  # One level up from the current working directory\n",
    "\n",
    "# Add the src/ directory to sys.path using base_path\n",
    "sys.path.append(str((base_path / \"src\").resolve()))\n",
    "\n",
    "from bn_utils import draw_bayesian_network\n",
    "from discrete.discrete_inference import format_probability_query, query_probability"
   ]
  },
  {
   "cell_type": "code",
   "execution_count": 3,
   "id": "53ee5b9b",
   "metadata": {},
   "outputs": [
    {
     "name": "stdout",
     "output_type": "stream",
     "text": [
      "Nodes in the network: ['asia', 'tub', 'smoke', 'lung', 'bronc', 'either', 'xray', 'dysp']\n",
      "Edges in the network: [('asia', 'tub'), ('tub', 'either'), ('smoke', 'lung'), ('smoke', 'bronc'), ('lung', 'either'), ('bronc', 'dysp'), ('either', 'xray'), ('either', 'dysp')]\n",
      "\n",
      "==================================================\n",
      "\n",
      "+-----------+------+\n",
      "| asia(yes) | 0.01 |\n",
      "+-----------+------+\n",
      "| asia(no)  | 0.99 |\n",
      "+-----------+------+\n",
      "\n",
      "+------------+------------+-----------+\n",
      "| smoke      | smoke(yes) | smoke(no) |\n",
      "+------------+------------+-----------+\n",
      "| bronc(yes) | 0.6        | 0.3       |\n",
      "+------------+------------+-----------+\n",
      "| bronc(no)  | 0.4        | 0.7       |\n",
      "+------------+------------+-----------+\n",
      "\n",
      "+-----------+-------------+------------+-------------+------------+\n",
      "| bronc     | bronc(yes)  | bronc(yes) | bronc(no)   | bronc(no)  |\n",
      "+-----------+-------------+------------+-------------+------------+\n",
      "| either    | either(yes) | either(no) | either(yes) | either(no) |\n",
      "+-----------+-------------+------------+-------------+------------+\n",
      "| dysp(yes) | 0.9         | 0.8        | 0.7         | 0.1        |\n",
      "+-----------+-------------+------------+-------------+------------+\n",
      "| dysp(no)  | 0.1         | 0.2        | 0.3         | 0.9        |\n",
      "+-----------+-------------+------------+-------------+------------+\n",
      "\n",
      "+-------------+-----------+-----------+----------+----------+\n",
      "| lung        | lung(yes) | lung(yes) | lung(no) | lung(no) |\n",
      "+-------------+-----------+-----------+----------+----------+\n",
      "| tub         | tub(yes)  | tub(no)   | tub(yes) | tub(no)  |\n",
      "+-------------+-----------+-----------+----------+----------+\n",
      "| either(yes) | 1.0       | 1.0       | 1.0      | 0.0      |\n",
      "+-------------+-----------+-----------+----------+----------+\n",
      "| either(no)  | 0.0       | 0.0       | 0.0      | 1.0      |\n",
      "+-------------+-----------+-----------+----------+----------+\n",
      "\n",
      "+-----------+------------+-----------+\n",
      "| smoke     | smoke(yes) | smoke(no) |\n",
      "+-----------+------------+-----------+\n",
      "| lung(yes) | 0.1        | 0.01      |\n",
      "+-----------+------------+-----------+\n",
      "| lung(no)  | 0.9        | 0.99      |\n",
      "+-----------+------------+-----------+\n",
      "\n",
      "+------------+-----+\n",
      "| smoke(yes) | 0.5 |\n",
      "+------------+-----+\n",
      "| smoke(no)  | 0.5 |\n",
      "+------------+-----+\n",
      "\n",
      "+----------+-----------+----------+\n",
      "| asia     | asia(yes) | asia(no) |\n",
      "+----------+-----------+----------+\n",
      "| tub(yes) | 0.05      | 0.01     |\n",
      "+----------+-----------+----------+\n",
      "| tub(no)  | 0.95      | 0.99     |\n",
      "+----------+-----------+----------+\n",
      "\n",
      "+-----------+-------------+------------+\n",
      "| either    | either(yes) | either(no) |\n",
      "+-----------+-------------+------------+\n",
      "| xray(yes) | 0.98        | 0.05       |\n",
      "+-----------+-------------+------------+\n",
      "| xray(no)  | 0.02        | 0.95       |\n",
      "+-----------+-------------+------------+\n"
     ]
    }
   ],
   "source": [
    "# Load the ASIA network example\n",
    "model = get_example_model(\"asia\")\n",
    "\n",
    "# Print the model structure (nodes and edges)\n",
    "print(\"Nodes in the network:\", model.nodes())\n",
    "print(\"Edges in the network:\", model.edges())\n",
    "print(\"\\n\" + \"=\"*50 + \"\\n\")\n",
    "\n",
    "# Collect CPDs into a single string\n",
    "cpd_strings = []\n",
    "for cpd in model.get_cpds():\n",
    "    cpd_strings.append(str(cpd))\n",
    "\n",
    "# Join them with double newlines\n",
    "cpds_as_string = \"\\n\\n\".join(cpd_strings)\n",
    "\n",
    "# If you want to check\n",
    "print(cpds_as_string)"
   ]
  },
  {
   "cell_type": "markdown",
   "id": "3e924a72",
   "metadata": {},
   "source": [
    "## Draw the structure"
   ]
  },
  {
   "cell_type": "code",
   "execution_count": 4,
   "id": "c585a864",
   "metadata": {},
   "outputs": [
    {
     "data": {
      "image/png": "[encoded data removed]",
      "text/plain": [
       "<Figure size 1000x600 with 1 Axes>"
      ]
     },
     "metadata": {},
     "output_type": "display_data"
    }
   ],
   "source": [
    "draw_bayesian_network(model)"
   ]
  },
  {
   "cell_type": "markdown",
   "id": "45b1a60a",
   "metadata": {},
   "source": [
    "## Inference example"
   ]
  },
  {
   "cell_type": "code",
   "execution_count": 5,
   "id": "7cdc4f49",
   "metadata": {},
   "outputs": [],
   "source": [
    "# Create inference object\n",
    "infer = VariableElimination(model)"
   ]
  },
  {
   "cell_type": "code",
   "execution_count": 6,
   "id": "235a0dbf",
   "metadata": {},
   "outputs": [
    {
     "name": "stdout",
     "output_type": "stream",
     "text": [
      "P(Dysp | Smoke = no):\n",
      "+-----------+-------------+\n",
      "| dysp      |   phi(dysp) |\n",
      "+===========+=============+\n",
      "| dysp(yes) |      0.3191 |\n",
      "+-----------+-------------+\n",
      "| dysp(no)  |      0.6809 |\n",
      "+-----------+-------------+\n",
      "\n",
      "--------------------------------------------------\n",
      "\n"
     ]
    }
   ],
   "source": [
    "# -------------------------------\n",
    "# 1️⃣ Single evidence\n",
    "query = infer.query(variables=['dysp'], evidence={'smoke': 'no'})\n",
    "print(\"P(Dysp | Smoke = no):\")\n",
    "print(query)\n",
    "print(\"\\n\" + \"-\"*50 + \"\\n\")"
   ]
  },
  {
   "cell_type": "code",
   "execution_count": 7,
   "id": "fc4736fb",
   "metadata": {},
   "outputs": [
    {
     "name": "stdout",
     "output_type": "stream",
     "text": [
      "P(Dysp | Smoke = yes, Asia = no, Tub = yes):\n",
      "+-----------+-------------+\n",
      "| dysp      |   phi(dysp) |\n",
      "+===========+=============+\n",
      "| dysp(yes) |      0.8200 |\n",
      "+-----------+-------------+\n",
      "| dysp(no)  |      0.1800 |\n",
      "+-----------+-------------+\n"
     ]
    }
   ],
   "source": [
    "\n",
    "# -------------------------------\n",
    "# 3️⃣ Three evidences\n",
    "query = infer.query(variables=['dysp'], evidence={'smoke': 'yes', 'asia': 'no', 'tub': 'yes'})\n",
    "print(\"P(Dysp | Smoke = yes, Asia = no, Tub = yes):\")\n",
    "print(query)"
   ]
  },
  {
   "cell_type": "markdown",
   "id": "90a28c06",
   "metadata": {},
   "source": [
    "### Example for query with specific value"
   ]
  },
  {
   "cell_type": "code",
   "execution_count": 8,
   "id": "ead777a4",
   "metadata": {},
   "outputs": [
    {
     "name": "stdout",
     "output_type": "stream",
     "text": [
      "Query: P(dysp=no | smoke=yes, asia=no, tub=yes)\n",
      "Result: 0.1800\n",
      "\n",
      "Query: P(dysp=yes | smoke=no)\n",
      "Result: 0.3191\n"
     ]
    }
   ],
   "source": [
    "# Examples:\n",
    "evidence = {'smoke': 'yes', 'asia': 'no', 'tub': 'yes'}\n",
    "\n",
    "# Get the query string\n",
    "query_str = format_probability_query('dysp', 'no', evidence)\n",
    "prob = query_probability(infer, 'dysp', 'no', evidence)\n",
    "print(f\"Query: {query_str}\")\n",
    "print(f\"Result: {prob:.4f}\")\n",
    "\n",
    "# Another example\n",
    "query_str2 = format_probability_query('dysp', 'yes', {'smoke': 'no'})\n",
    "prob2 = query_probability(infer, 'dysp', 'yes', {'smoke': 'no'})\n",
    "print(f\"\\nQuery: {query_str2}\")\n",
    "print(f\"Result: {prob2:.4f}\")"
   ]
  }
 ],
 "metadata": {
  "kernelspec": {
   "display_name": ".venv",
   "language": "python",
   "name": "python3"
  },
  "language_info": {
   "codemirror_mode": {
    "name": "ipython",
    "version": 3
   },
   "file_extension": ".py",
   "mimetype": "text/x-python",
   "name": "python",
   "nbconvert_exporter": "python",
   "pygments_lexer": "ipython3",
   "version": "3.12.3"
  }
 },
 "nbformat": 4,
 "nbformat_minor": 5
}
